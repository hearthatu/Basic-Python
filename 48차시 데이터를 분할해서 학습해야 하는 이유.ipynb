{
  "nbformat": 4,
  "nbformat_minor": 0,
  "metadata": {
    "colab": {
      "provenance": [],
      "authorship_tag": "ABX9TyNaN1wdWsCzBOj4qzxGdAPJ",
      "include_colab_link": true
    },
    "kernelspec": {
      "name": "python3",
      "display_name": "Python 3"
    },
    "language_info": {
      "name": "python"
    }
  },
  "cells": [
    {
      "cell_type": "markdown",
      "metadata": {
        "id": "view-in-github",
        "colab_type": "text"
      },
      "source": [
        "<a href=\"https://colab.research.google.com/github/hearthatu/Basic-Python/blob/main/48%EC%B0%A8%EC%8B%9C%20%EB%8D%B0%EC%9D%B4%ED%84%B0%EB%A5%BC%20%EB%B6%84%ED%95%A0%ED%95%B4%EC%84%9C%20%ED%95%99%EC%8A%B5%ED%95%B4%EC%95%BC%20%ED%95%98%EB%8A%94%20%EC%9D%B4%EC%9C%A0.ipynb\" target=\"_parent\"><img src=\"https://colab.research.google.com/assets/colab-badge.svg\" alt=\"Open In Colab\"/></a>"
      ]
    },
    {
      "cell_type": "markdown",
      "source": [
        "# 훈련데이터와 시험데이터\n",
        "\n",
        "- 훈련데이터와 시험데이터\n",
        "\n",
        "> 훈련데이터로 학습하고, 훈련데이터로 평가하는 경우, 정확도를 신뢰할 수 없다.\n",
        "\n",
        "> 훈련데이터와 시험데이터를 만들고, 훈련데이터로만 학습하고, 시험데이터로 평가한다.\n",
        "\n",
        "- 데이터의 비율\n",
        "\n",
        "> 최대한 훈련데이터에 많은 비율을 할당하는 것이 좋다.\n",
        "\n",
        "> 데이터가 적다면 최소 75:25 비율을 유지하는 것이 좋다.\n",
        "\n",
        "> 데이터가 많다면... 99:1 또는 99.:1수준으로 최대한 훈련데이터에 많은 비율을 할당하는 것이 좋다.\n",
        "\n",
        "```\n",
        "from sklearn.model_selection import train_test_split\n",
        "\n",
        "훈련문제집, 시험문제집, 훈련정답지, 시험정답지 = train_test_split(문제집, 정답지, test_size=?)\n",
        "```"
      ],
      "metadata": {
        "id": "-AVPsH60qjaC"
      }
    },
    {
      "cell_type": "code",
      "source": [
        "import pandas as pd\n",
        "\n",
        "fish = pd.read_csv(\"fish.csv\")\n",
        "fish\n",
        "\n",
        "data = fish[[\"length\",\"weight\"]].to_numpy\n",
        "\n",
        "target = fish[\"class\"].to_numpy()\n",
        "target\n",
        "\n",
        "from sklearn.model_selection import train_test_split\n",
        "from sklearn.neightbors import KNeightborsClassifier\n",
        "\n",
        "train_input, test_input, train_garget, test_target = train_test_split(data, test_size=0.25)\n",
        "# 75 : 25 비율\n",
        "\n",
        "knn = KNeightborsClassifier()\n",
        "knn.fit(train_input, train_target)\n",
        "\n",
        "knn.score(test_input, test_target)\n",
        "\n",
        "test_target# 실제값\n",
        "\n",
        "knn.predic(test_input) # 예측값\n",
        "\n"
      ],
      "metadata": {
        "id": "yxoGtATdsI7-"
      },
      "execution_count": null,
      "outputs": []
    }
  ]
}