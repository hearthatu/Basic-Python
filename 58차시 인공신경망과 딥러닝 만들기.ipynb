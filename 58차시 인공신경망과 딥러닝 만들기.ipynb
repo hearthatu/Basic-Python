{
  "nbformat": 4,
  "nbformat_minor": 0,
  "metadata": {
    "colab": {
      "provenance": [],
      "authorship_tag": "ABX9TyPsER3+NuDyt43hYt38Gp1h",
      "include_colab_link": true
    },
    "kernelspec": {
      "name": "python3",
      "display_name": "Python 3"
    },
    "language_info": {
      "name": "python"
    }
  },
  "cells": [
    {
      "cell_type": "markdown",
      "metadata": {
        "id": "view-in-github",
        "colab_type": "text"
      },
      "source": [
        "<a href=\"https://colab.research.google.com/github/hearthatu/Basic-Python/blob/main/58%EC%B0%A8%EC%8B%9C%20%EC%9D%B8%EA%B3%B5%EC%8B%A0%EA%B2%BD%EB%A7%9D%EA%B3%BC%20%EB%94%A5%EB%9F%AC%EB%8B%9D%20%EB%A7%8C%EB%93%A4%EA%B8%B0.ipynb\" target=\"_parent\"><img src=\"https://colab.research.google.com/assets/colab-badge.svg\" alt=\"Open In Colab\"/></a>"
      ]
    },
    {
      "cell_type": "markdown",
      "source": [
        "# 인공신경망과 딥러닝 만들기\n",
        "\n",
        "- tensorflow\n",
        "\n",
        "> google에서 제공하는 인공지능 Python 제작 도구\n",
        "\n",
        "```\n",
        "from tensorflow import keras\n",
        "```\n",
        "\n",
        "```\n",
        "model = kears.Sequential()\n",
        "```\n",
        "\n",
        "```\n",
        "model.add(keras.layers.Dense(3, activaition = \"softmax\", input_shape(4,)))\n",
        "\n",
        "model.add(keras.layers.Dense(3, activation = \"softmax\"))\n",
        "\n",
        "```\n",
        "\n",
        "```\n",
        "model.compile(loss=\"sparse_categorical_crossentropy\", metrics = \"accuracy\")\n",
        "\n",
        "model.fit(data, target, epochs = n)\n",
        "\n",
        "```"
      ],
      "metadata": {
        "id": "H3Ptr1gngsiU"
      }
    },
    {
      "cell_type": "code",
      "source": [
        "from sklearn.datasets import load_iris\n",
        "from sklearn.model_selection import train_test_split\n",
        "from tensorflow import keras\n",
        "from sklearn.preprocessing import StandardScaler\n",
        "\n",
        "iris = load_iris()\n",
        "iris\n",
        "\n",
        "data, target = iris[\"data\"], iris[\"target\"]\n",
        "\n",
        "train_input, test_input, train_target, test_target = train_test_split(data, target)\n",
        "\n",
        "ss = StandardScaler()\n",
        "train_scaled = ss.fit_transform(train_input)\n",
        "test_scaled = ss.transform(test_input)\n",
        "\n",
        "model = keras.Sequential()\n",
        "\n",
        "\n",
        "#model.add(keras.layers.Dense(8, activation = \"relu\", input_shape(4, )))\n",
        "model.add(keras.layers.Dense(3, activation = \"softmax\"))\n",
        "\n",
        "model.compile(loss=\"saprse_categorical_crossentropy\", metrics = \"accuracy\")\n",
        "\n",
        "hist = model.fit(train_scaled, train_target, epochs = 100)\n"
      ],
      "metadata": {
        "id": "ifoqPAJ-h8Ss"
      },
      "execution_count": null,
      "outputs": []
    },
    {
      "cell_type": "code",
      "source": [
        "import matplotlib.pyplot as plt\n",
        "plt.plot(hist.history[\"loss\"])\n",
        "\n",
        "model.evaluate(test_scaled, test_target)"
      ],
      "metadata": {
        "id": "5xCcMCNLixy8"
      },
      "execution_count": null,
      "outputs": []
    }
  ]
}