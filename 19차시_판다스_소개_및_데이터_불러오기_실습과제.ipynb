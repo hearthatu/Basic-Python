{
  "nbformat": 4,
  "nbformat_minor": 0,
  "metadata": {
    "colab": {
      "provenance": [],
      "authorship_tag": "ABX9TyPTdCV6bSbm8Zj6A1wRa9OB",
      "include_colab_link": true
    },
    "kernelspec": {
      "name": "python3",
      "display_name": "Python 3"
    },
    "language_info": {
      "name": "python"
    }
  },
  "cells": [
    {
      "cell_type": "markdown",
      "metadata": {
        "id": "view-in-github",
        "colab_type": "text"
      },
      "source": [
        "<a href=\"https://colab.research.google.com/github/hearthatu/Basic-Python/blob/main/19%EC%B0%A8%EC%8B%9C_%ED%8C%90%EB%8B%A4%EC%8A%A4_%EC%86%8C%EA%B0%9C_%EB%B0%8F_%EB%8D%B0%EC%9D%B4%ED%84%B0_%EB%B6%88%EB%9F%AC%EC%98%A4%EA%B8%B0_%EC%8B%A4%EC%8A%B5%EA%B3%BC%EC%A0%9C.ipynb\" target=\"_parent\"><img src=\"https://colab.research.google.com/assets/colab-badge.svg\" alt=\"Open In Colab\"/></a>"
      ]
    },
    {
      "cell_type": "code",
      "execution_count": 1,
      "metadata": {
        "colab": {
          "base_uri": "https://localhost:8080/"
        },
        "id": "uQibQP-Tzcsp",
        "outputId": "41b9d6d9-6637-4049-c11a-7e7dbe097b70"
      },
      "outputs": [
        {
          "output_type": "stream",
          "name": "stdout",
          "text": [
            "Hello World!\n"
          ]
        }
      ],
      "source": [
        "print(\"Hello World!\")"
      ]
    },
    {
      "cell_type": "code",
      "source": [
        "f = open(\"test.txt\", \"wt\")\n",
        "f.write(\"hello\")\n",
        "f.close()"
      ],
      "metadata": {
        "id": "uTm-Rk736K1t"
      },
      "execution_count": 3,
      "outputs": []
    },
    {
      "cell_type": "code",
      "source": [
        "f = open(\"test.txt\",\"rt\")\n",
        "data = f.read()\n",
        "f.close()\n",
        "data"
      ],
      "metadata": {
        "colab": {
          "base_uri": "https://localhost:8080/",
          "height": 35
        },
        "id": "VomIntic63e9",
        "outputId": "91d13729-0d2d-45fa-84dd-8ff7562ce370"
      },
      "execution_count": 4,
      "outputs": [
        {
          "output_type": "execute_result",
          "data": {
            "text/plain": [
              "'hello'"
            ],
            "application/vnd.google.colaboratory.intrinsic+json": {
              "type": "string"
            }
          },
          "metadata": {},
          "execution_count": 4
        }
      ]
    }
  ]
}