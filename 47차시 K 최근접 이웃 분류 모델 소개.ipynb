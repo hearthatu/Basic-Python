{
  "nbformat": 4,
  "nbformat_minor": 0,
  "metadata": {
    "colab": {
      "provenance": [],
      "authorship_tag": "ABX9TyMLvO+ZB/xw3iQgv1GsdukZ",
      "include_colab_link": true
    },
    "kernelspec": {
      "name": "python3",
      "display_name": "Python 3"
    },
    "language_info": {
      "name": "python"
    }
  },
  "cells": [
    {
      "cell_type": "markdown",
      "metadata": {
        "id": "view-in-github",
        "colab_type": "text"
      },
      "source": [
        "<a href=\"https://colab.research.google.com/github/hearthatu/Basic-Python/blob/main/47%EC%B0%A8%EC%8B%9C%20K%20%EC%B5%9C%EA%B7%BC%EC%A0%91%20%EC%9D%B4%EC%9B%83%20%EB%B6%84%EB%A5%98%20%EB%AA%A8%EB%8D%B8%20%EC%86%8C%EA%B0%9C.ipynb\" target=\"_parent\"><img src=\"https://colab.research.google.com/assets/colab-badge.svg\" alt=\"Open In Colab\"/></a>"
      ]
    },
    {
      "cell_type": "markdown",
      "source": [
        "# K 최근접 이웃 분류 모델\n",
        "\n",
        "- **K 최근접 이웃 모델**\n",
        "\n",
        "> 새로운 입력으로 들어온 데이터를 특정값으로 분류\n",
        "\n",
        "> 가장 가까운 k개의 데이터를 가장 많은 분류 값으로 찾은 후 현재 데이터를 분류하는 알고리즘\n",
        "\n",
        "- 장점\n",
        "\n",
        "1. 간단한 원리\n",
        "\n",
        "2. 우수한 성능\n",
        "\n",
        "3. 이진분류와 다중분류 모두 가능\n",
        "\n",
        "- 단점\n",
        "\n",
        "1. 속도가 매우 느리다.\n",
        "\n",
        "2. 하나의 예측을 분류하기 위해 저장된 모든 데이터와 거리를 비교하여 적절한 K값을 찾는다.\n",
        "\n",
        "```\n",
        "from sklearn.neighbors import KNeightborsClassifier\n",
        "\n",
        "knn = KNeighborsClassifier()\n",
        "knn.fit(문제집, 정답지)\n",
        "knn.score(문제집, 정답지)\n",
        "knn.predic(data)\n",
        "\n",
        "```"
      ],
      "metadata": {
        "id": "9zihy3humRkV"
      }
    },
    {
      "cell_type": "code",
      "source": [
        "import pandas as pd\n",
        "\n",
        "fish = pd.read_csv(\"fish.csv\")\n",
        "fish\n",
        "\n",
        "import seaborn as sns\n",
        "sns.set_style(\"whitergrid\")\n",
        "sns.lmplot(x=\"length\", y=\"weight\", data=fish, hue=\"class\", fit_reg = False)\n",
        "\n",
        "\n",
        "length = fish[\"length\"].to_numpy()\n",
        "weight = fish[\"weight\"].to_numpy()\n",
        "\n",
        "data=[]\n",
        "for i in range(49):\n",
        "    data.append([length[i], weight[i]])\n",
        "\n",
        "data = np.array(data)\n",
        "data\n",
        "\n",
        "target = fish[\"class\"].to_numpy()\n",
        "target\n",
        "\n",
        "from sklearn.neighbors import KNeighborsClassifier\n",
        "\n",
        "knn = KNeighborsClassifier()\n",
        "knn.fit(data, target)\n",
        "\n",
        "knn.predic([35, 400])\n",
        "\n",
        "\n",
        "for i in range(1, 50):\n",
        "    knn = KNeightborsClassifier(n_neightbors=i)\n",
        "    knn.fit(data, target)\n",
        "    score = knn.score(data, target)\n",
        "    print(\"이웃 :{} // 점수 {}\".format(i, score))\n",
        "\n",
        "target # 실제값\n",
        "knn.predict(data) # 예측값\n",
        "knn.score(data, target) # 예측값과 실제값의 맞은 비율\n",
        "\n",
        "35/49"
      ],
      "metadata": {
        "id": "HkznB303nrtn"
      },
      "execution_count": null,
      "outputs": []
    }
  ]
}