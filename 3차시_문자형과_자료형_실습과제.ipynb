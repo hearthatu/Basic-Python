{
  "nbformat": 4,
  "nbformat_minor": 0,
  "metadata": {
    "colab": {
      "provenance": [],
      "authorship_tag": "ABX9TyPC/putTVaAZLk15OYb1CS4",
      "include_colab_link": true
    },
    "kernelspec": {
      "name": "python3",
      "display_name": "Python 3"
    },
    "language_info": {
      "name": "python"
    }
  },
  "cells": [
    {
      "cell_type": "markdown",
      "metadata": {
        "id": "view-in-github",
        "colab_type": "text"
      },
      "source": [
        "<a href=\"https://colab.research.google.com/github/hearthatu/Basic-Python/blob/main/3%EC%B0%A8%EC%8B%9C_%EB%AC%B8%EC%9E%90%ED%98%95%EA%B3%BC_%EC%9E%90%EB%A3%8C%ED%98%95_%EC%8B%A4%EC%8A%B5%EA%B3%BC%EC%A0%9C.ipynb\" target=\"_parent\"><img src=\"https://colab.research.google.com/assets/colab-badge.svg\" alt=\"Open In Colab\"/></a>"
      ]
    },
    {
      "cell_type": "code",
      "execution_count": null,
      "metadata": {
        "id": "sAdVOY2KYRws"
      },
      "outputs": [],
      "source": [
        "#변수 n에 할당된 값 만큼 \"수박\" 출력하는 코드를 작성해보세요.\n",
        "\n",
        "#ex)\n",
        "#n = 4 일 때,\n",
        "#수박수박\n",
        "\n",
        "#n = 5 일 때,\n",
        "#수박수박수\n",
        "\n",
        "n = 4\n",
        "print(\"수박\"*(n//2))\n",
        "\n",
        "n = 5\n",
        "print(\"수박\"*(n//2) + '수'*(n%2))\n",
        "\n",
        "n = 5\n",
        "t = \"수박\" * 5\n",
        "print(t[:n])"
      ]
    }
  ]
}