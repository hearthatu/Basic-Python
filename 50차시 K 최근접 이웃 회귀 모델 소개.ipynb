{
  "nbformat": 4,
  "nbformat_minor": 0,
  "metadata": {
    "colab": {
      "provenance": [],
      "authorship_tag": "ABX9TyMqBxXOZh/tRRZkeQDBNJpR",
      "include_colab_link": true
    },
    "kernelspec": {
      "name": "python3",
      "display_name": "Python 3"
    },
    "language_info": {
      "name": "python"
    }
  },
  "cells": [
    {
      "cell_type": "markdown",
      "metadata": {
        "id": "view-in-github",
        "colab_type": "text"
      },
      "source": [
        "<a href=\"https://colab.research.google.com/github/hearthatu/Basic-Python/blob/main/50%EC%B0%A8%EC%8B%9C%20K%20%EC%B5%9C%EA%B7%BC%EC%A0%91%20%EC%9D%B4%EC%9B%83%20%ED%9A%8C%EA%B7%80%20%EB%AA%A8%EB%8D%B8%20%EC%86%8C%EA%B0%9C.ipynb\" target=\"_parent\"><img src=\"https://colab.research.google.com/assets/colab-badge.svg\" alt=\"Open In Colab\"/></a>"
      ]
    },
    {
      "cell_type": "markdown",
      "source": [
        "# K 최근접 이웃 회귀\n",
        "\n",
        "- K 최근접 이웃 회귀\n",
        "\n",
        "> 새로운 값에 대해서 가장 가까운 데이터 K개를 평균 낸 값으로 새로운 값을 예측"
      ],
      "metadata": {
        "id": "qJBSYRRWyEU2"
      }
    },
    {
      "cell_type": "code",
      "source": [
        "import pandas as pd\n",
        "\n",
        "fish = pd._read_csv(\"perch.csv\")\n",
        "\n",
        "#생선의 길이를 보고 무게를 예측한다.\n",
        "\n",
        "import matplolib.pyplot as plt\n",
        "plt.scatter(perch[\"length\"], perch[\"weight\"])\n",
        "\n",
        "data = perch[\"length\"].to_numpy()\n",
        "target = perch[\"weight\"].to_numpy()\n",
        "\n",
        "data # 문제집, 2차원 행렬이어야 하는데, 1차원 행렬\n",
        "\n",
        "data2 = data.reshape(-1, ) # 자동행 1열\n",
        "\n",
        "from sklearn.model_selection import trrain_test_split\n",
        "\n",
        "train_input, test_input, test_target = train_test_split(data2, target)\n",
        "\n",
        "\n",
        "from sklearn.neightbors import KNeighborsRegressor\n",
        "\n",
        "for n in range(1, 43) :\n",
        "    knn = KNeighborsRegressor()\n",
        "    knn.fit(train_input, train_garget)\n",
        "    knn.score(test_input, test_target)\n",
        "    print(\"이웃 수 : {} / 정밀도 : {}\".format(n, score))\n",
        "\n",
        "knn = KNeighborsRegressor(n_neighbors=1)\n",
        "knn.fit(train_input, train_target)\n",
        "test_target\n",
        "knn.predic(test_input)\n",
        "knn.score(test_input, test_target)\n",
        "\n",
        "np.mean(abs(test_target - knn.predic(test_input)))"
      ],
      "metadata": {
        "id": "tgIe0D5nyqLn"
      },
      "execution_count": null,
      "outputs": []
    }
  ]
}