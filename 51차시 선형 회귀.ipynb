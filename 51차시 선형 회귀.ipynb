{
  "nbformat": 4,
  "nbformat_minor": 0,
  "metadata": {
    "colab": {
      "provenance": [],
      "authorship_tag": "ABX9TyP56hx/yxSyED5MAHB4xwQA",
      "include_colab_link": true
    },
    "kernelspec": {
      "name": "python3",
      "display_name": "Python 3"
    },
    "language_info": {
      "name": "python"
    }
  },
  "cells": [
    {
      "cell_type": "markdown",
      "metadata": {
        "id": "view-in-github",
        "colab_type": "text"
      },
      "source": [
        "<a href=\"https://colab.research.google.com/github/hearthatu/Basic-Python/blob/main/51%EC%B0%A8%EC%8B%9C%20%EC%84%A0%ED%98%95%20%ED%9A%8C%EA%B7%80.ipynb\" target=\"_parent\"><img src=\"https://colab.research.google.com/assets/colab-badge.svg\" alt=\"Open In Colab\"/></a>"
      ]
    },
    {
      "cell_type": "markdown",
      "source": [
        "# 선형 회귀\n",
        "\n",
        "- 선형 회귀\n",
        "\n",
        "> 종속 변수 y와 한 개 이상의 독립 변수 x와의 선형 상관관계를 모델링하는 회귀분석 기법\n",
        "\n",
        "> 머신러닝의 목적은 실제 데이터를 바탕으로 모델을 생성해서, 다른 입력값을 넣었을 때, 발생할 아웃풋을 예측하는데 있다.\n",
        "\n",
        "\n",
        "- 단순 선형 회귀와 다중 선형 회귀\n",
        "\n",
        "> 단순 선형 회귀 y = wx + b\n",
        "> 다중 선형 회귀\n",
        "\n",
        "\n",
        "```\n",
        "from sklearn.linear_model import LinearRegression\n",
        "\n",
        "```"
      ],
      "metadata": {
        "id": "4GMXLeCv1M4i"
      }
    },
    {
      "cell_type": "code",
      "source": [
        "import pandas as pd\n",
        "\n",
        "perch = pd.read_csv(\"perch.csv\")\n",
        "data = perch[\"length\"].to_numpy()\n",
        "target = perch[\"weight\"].to_nummpy()\n",
        "\n",
        "data2 = data.reshape(-1, 1)\n",
        "\n",
        "from sklearn.model_selection import train_test_split\n",
        "train_input, test_input, train_target, test_target = train_test_split(data2, target)\n",
        "\n",
        "from sklearn.linear_model import LinearRegression\n",
        "import matplotlib.pyplot as plt\n",
        "\n",
        "plt.scatter(perch[\"length\"], perch[\"weight\"])\n",
        "plt.plot(range(10, 46), Ir.coef_ * range(10, 46) + Ir.intercept_, \"red\")\n",
        "\n",
        "lr = LinearRegression()\n",
        "Ir.fit(train_input, train_target) # K 최근접 이웃 회귀모델 : 97%\n",
        "Ir.score(test_input, test_target) # r^2\n",
        "\n",
        "lr.coef_\n",
        "Ir.intercept_\n",
        "\n",
        "\n",
        "perch2 = pd.read_csv(\"perch2.csv\").to_numpy()\n",
        "perch2\n",
        "\n",
        "train_input, test_input, train_target, test_target = train_test_split(perch2, target)\n",
        "\n",
        "import numpy as np\n",
        "\n",
        "mean = np.mean(train_input, axis=0)\n",
        "std = np.std(train_input, axis=0)\n",
        "\n",
        "train_scaled = (train_input - mean) / std\n",
        "test-scaled = (test_input - mean) /std\n",
        "\n",
        "Ir = LinearRegression()\n",
        "Ir.fit(train_scaled, train_target)\n",
        "Ir.score(test_scaled, test_target)"
      ],
      "metadata": {
        "id": "PYoVBhxm2ci6"
      },
      "execution_count": null,
      "outputs": []
    }
  ]
}