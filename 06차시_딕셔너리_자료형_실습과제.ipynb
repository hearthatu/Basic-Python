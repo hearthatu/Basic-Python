{
  "nbformat": 4,
  "nbformat_minor": 0,
  "metadata": {
    "colab": {
      "provenance": [],
      "authorship_tag": "ABX9TyOX9dREcaLo5NeunNSTlzGO",
      "include_colab_link": true
    },
    "kernelspec": {
      "name": "python3",
      "display_name": "Python 3"
    },
    "language_info": {
      "name": "python"
    }
  },
  "cells": [
    {
      "cell_type": "markdown",
      "metadata": {
        "id": "view-in-github",
        "colab_type": "text"
      },
      "source": [
        "<a href=\"https://colab.research.google.com/github/hearthatu/Basic-Python/blob/main/6%EC%B0%A8%EC%8B%9C_%EB%94%95%EC%85%94%EB%84%88%EB%A6%AC_%EC%9E%90%EB%A3%8C%ED%98%95_%EC%8B%A4%EC%8A%B5%EA%B3%BC%EC%A0%9C.ipynb\" target=\"_parent\"><img src=\"https://colab.research.google.com/assets/colab-badge.svg\" alt=\"Open In Colab\"/></a>"
      ]
    },
    {
      "cell_type": "code",
      "execution_count": null,
      "metadata": {
        "id": "3AruvyIQk9vG",
        "outputId": "a621646c-f334-4e30-8908-cec8fc37a693",
        "colab": {
          "base_uri": "https://localhost:8080/"
        }
      },
      "outputs": [
        {
          "output_type": "stream",
          "name": "stdout",
          "text": [
            "{'죠스바': 1200, '메로나': 1500, '월드컵': 1800, '붕어싸만코': 2000}\n",
            "{'죠스바': 1200, '월드컵': 1800, '붕어싸만코': 2000}\n",
            "{'죠스바': 1500, '월드컵': 1800, '붕어싸만코': 2000}\n",
            "['죠스바', '월드컵', '붕어싸만코']\n",
            "[1500, 1800, 2000]\n",
            "[('죠스바', 1500), ('월드컵', 1800), ('붕어싸만코', 2000)]\n"
          ]
        }
      ],
      "source": [
        "#죠스바 1200원, 메로나 1500원, 월드컵 1800원\n",
        "\n",
        "#1. 위의 아이스크림 정보를 아이스크림 이름은 Key값, 가격은 Value으로 하는 딕셔너리를 만드신 후, 변수 dic에 할당해보세요.\n",
        "#2. 1에서 만든 변수 dic에 붕어싸만코 2000원에 대한 정보를 추가해보세요. (이름은 Key, 가격은 Value)\n",
        "#3. 변수 dic에서 메로나에 대한 정보를 삭제해주세요.\n",
        "#4. 변수 dic에서 죠스바의 가격을 1500원으로 변경해주세요.\n",
        "#5. 변수 dic을 화면에 출력해보세요.\n",
        "#6. 변수 dic의 Key값들만 모두 출력해주세요.\n",
        "#7. 변수 dic의 Value값을만 모두 출력해주세요.\n",
        "\n",
        "#1\n",
        "dic = {\"죠스바\":1200, \"메로나\":1500, \"월드컵\":1800}\n",
        "#2\n",
        "dic[\"붕어싸만코\"] = 2000\n",
        "print(dic)\n",
        "#3\n",
        "del dic[\"메로나\"]\n",
        "print(dic)\n",
        "#4\n",
        "dic[\"죠스바\"] = 1500\n",
        "#5\n",
        "print(dic)\n",
        "#6\n",
        "print(list(dic.keys()))\n",
        "#7\n",
        "print(list(dic.values()))\n",
        "\n",
        "print(list(dic.items()))"
      ]
    }
  ]
}
