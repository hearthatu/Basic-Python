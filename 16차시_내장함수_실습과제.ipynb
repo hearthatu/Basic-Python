{
  "nbformat": 4,
  "nbformat_minor": 0,
  "metadata": {
    "colab": {
      "provenance": [],
      "authorship_tag": "ABX9TyNhZai6lzxTWT3dInpOQxDY",
      "include_colab_link": true
    },
    "kernelspec": {
      "name": "python3",
      "display_name": "Python 3"
    },
    "language_info": {
      "name": "python"
    }
  },
  "cells": [
    {
      "cell_type": "markdown",
      "metadata": {
        "id": "view-in-github",
        "colab_type": "text"
      },
      "source": [
        "<a href=\"https://colab.research.google.com/github/hearthatu/Basic-Python/blob/main/16%EC%B0%A8%EC%8B%9C_%EB%82%B4%EC%9E%A5%ED%95%A8%EC%88%98_%EC%8B%A4%EC%8A%B5%EA%B3%BC%EC%A0%9C.ipynb\" target=\"_parent\"><img src=\"https://colab.research.google.com/assets/colab-badge.svg\" alt=\"Open In Colab\"/></a>"
      ]
    },
    {
      "cell_type": "code",
      "execution_count": 3,
      "metadata": {
        "colab": {
          "base_uri": "https://localhost:8080/"
        },
        "id": "J_InH_nOFA5z",
        "outputId": "4b0858c5-ca34-4d60-dfac-81fa931f552f"
      },
      "outputs": [
        {
          "output_type": "stream",
          "name": "stdout",
          "text": [
            "life is too short\n",
            "life is too short\n"
          ]
        }
      ],
      "source": [
        "print(\"life\" \" is\"  \" too short\")\n",
        "print(\"life\" + \" is\" + \" too short\")"
      ]
    },
    {
      "cell_type": "code",
      "source": [
        "for i in range(10):\n",
        "  print(i, end=\"\")"
      ],
      "metadata": {
        "colab": {
          "base_uri": "https://localhost:8080/"
        },
        "id": "KtrfeINSFykh",
        "outputId": "dd5fff63-71aa-44a2-8e23-3d202a8717f8"
      },
      "execution_count": 5,
      "outputs": [
        {
          "output_type": "stream",
          "name": "stdout",
          "text": [
            "0123456789"
          ]
        }
      ]
    },
    {
      "cell_type": "code",
      "source": [
        "#f = open(\"새파일.txt\",\"wt\") #wt , rt : read text\n",
        "#f.write(\"hello\")\n",
        "#f.close\n"
      ],
      "metadata": {
        "id": "dtZf7qSRF5vm"
      },
      "execution_count": 7,
      "outputs": []
    },
    {
      "cell_type": "code",
      "source": [
        "abs(-3)\n",
        "abs(-1.2)"
      ],
      "metadata": {
        "colab": {
          "base_uri": "https://localhost:8080/"
        },
        "id": "gaJSGATFF-06",
        "outputId": "909499e9-994c-4741-a09c-6d99b7ac4eb6"
      },
      "execution_count": 8,
      "outputs": [
        {
          "output_type": "execute_result",
          "data": {
            "text/plain": [
              "1.2"
            ]
          },
          "metadata": {},
          "execution_count": 8
        }
      ]
    },
    {
      "cell_type": "code",
      "source": [
        "all([1,2,3]) # 모두 참이면 참\n",
        "all([1,2,3,9])"
      ],
      "metadata": {
        "colab": {
          "base_uri": "https://localhost:8080/"
        },
        "id": "DdxW6RkTGw7o",
        "outputId": "d3d73aa4-9d61-46e9-eff4-0c5a06e0c8ca"
      },
      "execution_count": 9,
      "outputs": [
        {
          "output_type": "execute_result",
          "data": {
            "text/plain": [
              "True"
            ]
          },
          "metadata": {},
          "execution_count": 9
        }
      ]
    },
    {
      "cell_type": "code",
      "source": [
        "any([1,2,3,0]) # 하나라도 참이면 참"
      ],
      "metadata": {
        "colab": {
          "base_uri": "https://localhost:8080/"
        },
        "id": "Cj9Haec-G1Dh",
        "outputId": "125d0dfd-4a80-4f0c-fd6b-e7e430d0f06d"
      },
      "execution_count": 10,
      "outputs": [
        {
          "output_type": "execute_result",
          "data": {
            "text/plain": [
              "True"
            ]
          },
          "metadata": {},
          "execution_count": 10
        }
      ]
    },
    {
      "cell_type": "code",
      "source": [
        "divmod(7,3) # 몫과 나머지\n"
      ],
      "metadata": {
        "colab": {
          "base_uri": "https://localhost:8080/"
        },
        "id": "zxVRcVBvG-M6",
        "outputId": "c9128e1d-19d7-4e27-c53a-7b10ddee652a"
      },
      "execution_count": 11,
      "outputs": [
        {
          "output_type": "execute_result",
          "data": {
            "text/plain": [
              "(2, 1)"
            ]
          },
          "metadata": {},
          "execution_count": 11
        }
      ]
    },
    {
      "cell_type": "code",
      "source": [
        "enumerate([\"body\",\"foo\",\"bar\"])"
      ],
      "metadata": {
        "colab": {
          "base_uri": "https://localhost:8080/"
        },
        "id": "q18PG1SCHBAD",
        "outputId": "aaf5a452-43d7-4b8b-b396-0752721293ab"
      },
      "execution_count": 12,
      "outputs": [
        {
          "output_type": "execute_result",
          "data": {
            "text/plain": [
              "<enumerate at 0x7caaeb894fc0>"
            ]
          },
          "metadata": {},
          "execution_count": 12
        }
      ]
    },
    {
      "cell_type": "code",
      "source": [
        "eval('1+2')\n",
        "eval(\"'hi' + 'a'\")\n",
        "eval('divmod(4,3)')"
      ],
      "metadata": {
        "colab": {
          "base_uri": "https://localhost:8080/"
        },
        "id": "VwqL5_92HHcq",
        "outputId": "1712a814-52ab-44a1-fb70-d94f3920d85e"
      },
      "execution_count": 14,
      "outputs": [
        {
          "output_type": "execute_result",
          "data": {
            "text/plain": [
              "(1, 1)"
            ]
          },
          "metadata": {},
          "execution_count": 14
        }
      ]
    },
    {
      "cell_type": "code",
      "source": [
        "def positive(x):\n",
        "  return x > 0\n",
        "\n",
        "  print(list(filter(positive,[1,-3,2,0,-5,6])))"
      ],
      "metadata": {
        "id": "qPfyRbemHUyh"
      },
      "execution_count": 15,
      "outputs": []
    },
    {
      "cell_type": "code",
      "source": [
        "# 주소값 변환\n",
        "a = 3\n",
        "id(3)"
      ],
      "metadata": {
        "colab": {
          "base_uri": "https://localhost:8080/"
        },
        "id": "Q6oYrbNnHudR",
        "outputId": "5223ea57-47aa-4edc-d5f2-93523d70c8ce"
      },
      "execution_count": 16,
      "outputs": [
        {
          "output_type": "execute_result",
          "data": {
            "text/plain": [
              "137074797707568"
            ]
          },
          "metadata": {},
          "execution_count": 16
        }
      ]
    },
    {
      "cell_type": "code",
      "source": [
        "#정수 반환\n",
        "int('3')\n",
        "int(3.4)\n",
        "int(\"11\",2) # 이진"
      ],
      "metadata": {
        "colab": {
          "base_uri": "https://localhost:8080/"
        },
        "id": "aXSxeC9CHzzC",
        "outputId": "1e869b5d-7523-4ac1-9ecd-4f5110bd2428"
      },
      "execution_count": 19,
      "outputs": [
        {
          "output_type": "execute_result",
          "data": {
            "text/plain": [
              "3"
            ]
          },
          "metadata": {},
          "execution_count": 19
        }
      ]
    },
    {
      "cell_type": "code",
      "source": [
        "def two_times(x):\n",
        "  return x*2\n",
        "\n",
        "list(map(two_times, [1,2,3,4]))"
      ],
      "metadata": {
        "colab": {
          "base_uri": "https://localhost:8080/"
        },
        "id": "c01dFt0vH7Bh",
        "outputId": "284ee76d-48a8-4e83-c7a8-bdedec368169"
      },
      "execution_count": 21,
      "outputs": [
        {
          "output_type": "execute_result",
          "data": {
            "text/plain": [
              "[2, 4, 6, 8]"
            ]
          },
          "metadata": {},
          "execution_count": 21
        }
      ]
    },
    {
      "cell_type": "code",
      "source": [
        "x = ['이순신','홍길동','아이유']\n",
        "y = [1,3,5,2,-3,-4,-5]\n",
        "\n",
        "for i, j in enumerate(x): # 0:'이순신 , 1:'홍길동\", 2:'아이유\"\n",
        "  print(i,j)\n",
        "\n",
        "def test(x):\n",
        "  return x > 0\n",
        "\n",
        "print(list(filter(test, y)))\n",
        "\n",
        "#map : 모든 요소에 함수를 적용한다\n",
        "\n",
        "def multi(x):\n",
        "  return x * 10\n",
        "\n",
        "print(list(map(multi, y)))\n"
      ],
      "metadata": {
        "colab": {
          "base_uri": "https://localhost:8080/"
        },
        "id": "coivcca1IPo5",
        "outputId": "bfb40810-aa18-431a-b075-95ab4ffb7631"
      },
      "execution_count": 28,
      "outputs": [
        {
          "output_type": "stream",
          "name": "stdout",
          "text": [
            "0 이순신\n",
            "1 홍길동\n",
            "2 아이유\n",
            "[1, 3, 5, 2]\n",
            "[10, 30, 50, 20, -30, -40, -50]\n"
          ]
        }
      ]
    },
    {
      "cell_type": "markdown",
      "source": [
        "# **16차시 내장함수 실습과제**\n",
        "\n",
        "1. 내장함수 abs() 함수를 사용하여 abs(-3) + abs(5)의 값을 변수 a에 할당하세요.\n",
        "\n",
        "2. 내장함수 round()함수를 사용하여 round(4.7)+round(2.2)의 값을 변수 b에 할당하세요.\n",
        "\n",
        "3. 내장함수 max(), min()함수를 사용하여 max([1,3,5,4,2]) + min([1,3,5,4,2])의 값을 변수 c에 할당하세요.\n",
        "\n",
        "4. 내장함수 sum() 함수를 사용하여 sum([2,4,3,1,5])의 값을 변수d에 할당하세요.\n",
        "\n",
        "5. 마지막으로 변수 a,b,c,d를 모두 더한 값을 화면에 출력하세요"
      ],
      "metadata": {
        "id": "h35QWi7doPAI"
      }
    },
    {
      "cell_type": "code",
      "source": [
        "a = abs(-3) + abs(5)\n",
        "print(\"a = {}\".format(a))\n",
        "\n",
        "b = round(4.7)+round(2.2)\n",
        "print(\"b = {}\".format(b))\n",
        "\n",
        "c = max([1,3,5,4,2])+min(1,3,5,4,2)\n",
        "print(\"c = {}\".format(c))\n",
        "\n",
        "d = sum([2,4,3,1,5])\n",
        "print(\"d = {}\".format(d))\n",
        "\n",
        "print(\"a+b+c+d = {}\".format(a+b+c+d))"
      ],
      "metadata": {
        "colab": {
          "base_uri": "https://localhost:8080/"
        },
        "id": "NanE_MkooWOS",
        "outputId": "38ad16d3-4f57-42f8-9940-de5708266669"
      },
      "execution_count": 1,
      "outputs": [
        {
          "output_type": "stream",
          "name": "stdout",
          "text": [
            "a = 8\n",
            "b = 7\n",
            "c = 6\n",
            "d = 15\n",
            "a+b+c+d = 36\n"
          ]
        }
      ]
    }
  ]
}