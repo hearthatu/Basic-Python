{
  "nbformat": 4,
  "nbformat_minor": 0,
  "metadata": {
    "colab": {
      "provenance": [],
      "authorship_tag": "ABX9TyMYSaCFNJJQqDy9M7nZEp6c",
      "include_colab_link": true
    },
    "kernelspec": {
      "name": "python3",
      "display_name": "Python 3"
    },
    "language_info": {
      "name": "python"
    }
  },
  "cells": [
    {
      "cell_type": "markdown",
      "metadata": {
        "id": "view-in-github",
        "colab_type": "text"
      },
      "source": [
        "<a href=\"https://colab.research.google.com/github/hearthatu/Basic-Python/blob/main/62%EC%B0%A8%EC%8B%9C%20%EB%8D%B0%EC%9D%B4%ED%84%B0%20%ED%81%AC%EB%A1%A4%EB%A7%81%EC%9D%84%20%ED%86%B5%ED%95%9C%20%EC%82%BC%EC%84%B1%EC%A0%84%EC%82%AC%20%EC%A3%BC%EC%8B%9D%20%EA%B0%80%EA%B2%A9%20%EC%98%88%EC%B8%A1%ED%95%98%EA%B8%B0.ipynb\" target=\"_parent\"><img src=\"https://colab.research.google.com/assets/colab-badge.svg\" alt=\"Open In Colab\"/></a>"
      ]
    },
    {
      "cell_type": "markdown",
      "source": [
        "# 데이터 크롤링\n",
        "\n",
        "- 크롤링시 요청한 정보가 잘 오지 않는 경우\n",
        "\n",
        "```\n",
        "dic = {\"User-Agent\" : \"Mozilla/5.0 (Macintosh; Intel Max OS X 12_5_1)\"}\n",
        "url = requests.get(url, headers = dic)\n",
        "```\n",
        "1. 주식 데이터 크롤링\n",
        "2. 주식 데이터 데이터프레임 변환 후 전처리\n",
        "3. 지도학습을 위한 문제집, 정답지 만들기\n",
        "4. 모델 생성\n",
        "5. 학습\n",
        "6. 평가\n",
        "7. 예측"
      ],
      "metadata": {
        "id": "MVInA75kNS3i"
      }
    },
    {
      "cell_type": "code",
      "source": [],
      "metadata": {
        "id": "GXOs3fxaPrmh"
      },
      "execution_count": null,
      "outputs": []
    }
  ]
}