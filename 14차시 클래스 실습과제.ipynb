{
  "nbformat": 4,
  "nbformat_minor": 0,
  "metadata": {
    "colab": {
      "provenance": [],
      "authorship_tag": "ABX9TyN8e+qJeiy4Lm07oUXHgUV5",
      "include_colab_link": true
    },
    "kernelspec": {
      "name": "python3",
      "display_name": "Python 3"
    },
    "language_info": {
      "name": "python"
    }
  },
  "cells": [
    {
      "cell_type": "markdown",
      "metadata": {
        "id": "view-in-github",
        "colab_type": "text"
      },
      "source": [
        "<a href=\"https://colab.research.google.com/github/hearthatu/Basic-Python/blob/main/14%EC%B0%A8%EC%8B%9C_%ED%81%B4%EB%9E%98%EC%8A%A4_%EC%8B%A4%EC%8A%B5%EA%B3%BC%EC%A0%9C.ipynb\" target=\"_parent\"><img src=\"https://colab.research.google.com/assets/colab-badge.svg\" alt=\"Open In Colab\"/></a>"
      ]
    },
    {
      "cell_type": "code",
      "execution_count": null,
      "metadata": {
        "id": "tkkMFUpt1vhP"
      },
      "outputs": [],
      "source": [
        "#수업때 진행했던 Bank( ) 클래스에서 금액을 출금하는 기능도 추가해서 사용해보세요.\n",
        "\n",
        "\n",
        "class Bank :\n",
        "\n",
        "    def __init__(self):\n",
        "        print(\"가입을 축하합니다.\")\n",
        "        self.money = 0\n",
        "\n",
        "    def deposit(self, a):\n",
        "        self.money += a\n",
        "\n",
        "    def withdraw(self, a):\n",
        "        self.money -= a\n",
        "\n",
        "\n",
        "person = Bank()\n",
        "person.deposit(50000)\n",
        "person.withdraw(30000)\n",
        "print(person.money)"
      ]
    }
  ]
}
