{
  "nbformat": 4,
  "nbformat_minor": 0,
  "metadata": {
    "colab": {
      "provenance": [],
      "authorship_tag": "ABX9TyPouyCdEt4MHDai1w+Ktbbx",
      "include_colab_link": true
    },
    "kernelspec": {
      "name": "python3",
      "display_name": "Python 3"
    },
    "language_info": {
      "name": "python"
    }
  },
  "cells": [
    {
      "cell_type": "markdown",
      "metadata": {
        "id": "view-in-github",
        "colab_type": "text"
      },
      "source": [
        "<a href=\"https://colab.research.google.com/github/hearthatu/Basic-Python/blob/main/52%EC%B0%A8%EC%8B%9C%20%ED%8A%B9%EC%84%B1%EA%B3%B5%ED%95%99%EC%9D%84%20%EC%9D%B4%EC%9A%A9%ED%95%B4%EC%84%9C%20%ED%8A%B9%EC%84%B1%20%EB%8A%98%EB%A6%AC%EA%B8%B0.ipynb\" target=\"_parent\"><img src=\"https://colab.research.google.com/assets/colab-badge.svg\" alt=\"Open In Colab\"/></a>"
      ]
    },
    {
      "cell_type": "markdown",
      "source": [
        "# 특성공학\n",
        "\n",
        "- 특성공학\n",
        "\n",
        "> 기존의 특성을 사용해 새로운 특성을 뽑아내는 방법이다.\n",
        "\n",
        "> 특성이 부족해서 모델이 학습이 잘 되지 않을 때 사용한다.\n",
        "\n",
        "> 각 특성을 곱하거나, 제곱을 하는 등 새로운 특성을 추출한다.\n",
        "\n",
        "```\n",
        "from sklearn.preprocessing import PolynomialFeatures\n",
        "\n",
        "```"
      ],
      "metadata": {
        "id": "Tuy5kT3dWHOI"
      }
    },
    {
      "cell_type": "code",
      "source": [
        "import pandas as pd\n",
        "\n",
        "perch = pd.read_csv(\"perch.csv\")\n",
        "target = perch[\"weight\"].to_numpy()\n",
        "\n",
        "target\n",
        "\n",
        "perch2 = pd.read_csv(\"perch2.csv\").to_numpy()\n",
        "perch2\n",
        "\n",
        "from sklearn.preprocessing import PolynomialFeatures\n",
        "\n",
        "poly = PolynomialFeatures(include_bias=False, degree=5) # 편향\n",
        "perch_poly = poly.fit_transform(perch2)\n",
        "\n",
        "perch_poly.shape\n",
        "\n",
        "from sklearn.model_selection import train_test_split\n",
        "\n",
        "train_input, test_input, train_target, test_target = train_test_split(perch_poly, target)\n",
        "\n",
        "from sklearn.preprocessing import StandardScaler\n",
        "ss = StandardScaler()\n",
        "train_scaled = ss.fit_transform(train_input) #train_input의 평균, 표준편차를 학습해서 얻고, 변환해서 train_scaled 입력\n",
        "test_scaled = ss.transform(test_input) # 위에서 구했던 train_input의 평균, 표준편차로 변환해서 test_scaled 입력\n",
        "\n",
        "import numpy as np\n",
        "\n",
        "np.mean(train_scaled, axis=0)\n",
        "np.std(train_scaled, axis=0)\n",
        "\n",
        "from sklearn.linear_model LinearRegression\n",
        "\n",
        "Ir = LinearRegression()\n",
        "Ir.fit(train_sclaed, train_target)\n",
        "Ir.score(test_scaled, test_target)\n",
        "\n",
        "# 너무 모델이 학습세트에 맞아버려서 정확도가 떨어진다."
      ],
      "metadata": {
        "colab": {
          "base_uri": "https://localhost:8080/",
          "height": 136
        },
        "id": "3LRLTcm2W-hM",
        "outputId": "8e01bf68-ee15-4852-9b4d-1d6f12c6b3eb"
      },
      "execution_count": 1,
      "outputs": [
        {
          "output_type": "error",
          "ename": "SyntaxError",
          "evalue": "ignored",
          "traceback": [
            "\u001b[0;36m  File \u001b[0;32m\"<ipython-input-1-85b2ae792163>\"\u001b[0;36m, line \u001b[0;32m32\u001b[0m\n\u001b[0;31m    from sklearn.linear_model LinearRegression\u001b[0m\n\u001b[0m                              ^\u001b[0m\n\u001b[0;31mSyntaxError\u001b[0m\u001b[0;31m:\u001b[0m invalid syntax\n"
          ]
        }
      ]
    },
    {
      "cell_type": "code",
      "source": [],
      "metadata": {
        "id": "_JiymJrZY1tA"
      },
      "execution_count": null,
      "outputs": []
    }
  ]
}