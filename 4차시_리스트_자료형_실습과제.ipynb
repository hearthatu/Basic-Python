{
  "nbformat": 4,
  "nbformat_minor": 0,
  "metadata": {
    "colab": {
      "provenance": [],
      "authorship_tag": "ABX9TyPTbd/QvRlCo3/x3wp37Ogm",
      "include_colab_link": true
    },
    "kernelspec": {
      "name": "python3",
      "display_name": "Python 3"
    },
    "language_info": {
      "name": "python"
    }
  },
  "cells": [
    {
      "cell_type": "markdown",
      "metadata": {
        "id": "view-in-github",
        "colab_type": "text"
      },
      "source": [
        "<a href=\"https://colab.research.google.com/github/hearthatu/Basic-Python/blob/main/4%EC%B0%A8%EC%8B%9C_%EB%A6%AC%EC%8A%A4%ED%8A%B8_%EC%9E%90%EB%A3%8C%ED%98%95_%EC%8B%A4%EC%8A%B5%EA%B3%BC%EC%A0%9C.ipynb\" target=\"_parent\"><img src=\"https://colab.research.google.com/assets/colab-badge.svg\" alt=\"Open In Colab\"/></a>"
      ]
    },
    {
      "cell_type": "code",
      "execution_count": null,
      "metadata": {
        "id": "pP3kfq2gd6Kp",
        "outputId": "6d48230b-04c6-4d6d-f6fe-c392c42abc31",
        "colab": {
          "base_uri": "https://localhost:8080/"
        }
      },
      "outputs": [
        {
          "output_type": "stream",
          "name": "stdout",
          "text": [
            "[1, 2, 3, 4, 5]\n",
            "25\n"
          ]
        }
      ],
      "source": [
        "#리스트 값이 저장된 a의 최대값을 변수 c에 할당하시고, 최소값을 변수 d에 할당하세요.\n",
        "\n",
        "#b = [1,2,3,[4,5]]\n",
        "\n",
        "#변수 b에서 인덱싱을 사용하여 5만 추출해서 변수 e에 할당하세요.\n",
        "#마지막으로 변수 c, d, e를 곱한 값을 화면에 출력해보세요.\n",
        "\n",
        "a = [1, 3, 5, 4, 2]\n",
        "a.sort()\n",
        "print(a)\n",
        "\n",
        "c = a[-1]\n",
        "d = a[0]\n",
        "\n",
        "b = [1,2,3,[4,5]]\n",
        "e = b[3][1]\n",
        "\n",
        "print(c*d*e)"
      ]
    }
  ]
}