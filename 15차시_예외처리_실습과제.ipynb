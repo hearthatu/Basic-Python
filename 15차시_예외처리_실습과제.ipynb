{
  "nbformat": 4,
  "nbformat_minor": 0,
  "metadata": {
    "colab": {
      "provenance": [],
      "authorship_tag": "ABX9TyPevw9JWLL6e0wxVBU/5btr",
      "include_colab_link": true
    },
    "kernelspec": {
      "name": "python3",
      "display_name": "Python 3"
    },
    "language_info": {
      "name": "python"
    }
  },
  "cells": [
    {
      "cell_type": "markdown",
      "metadata": {
        "id": "view-in-github",
        "colab_type": "text"
      },
      "source": [
        "<a href=\"https://colab.research.google.com/github/hearthatu/Basic-Python/blob/main/15%EC%B0%A8%EC%8B%9C_%EC%98%88%EC%99%B8%EC%B2%98%EB%A6%AC_%EC%8B%A4%EC%8A%B5%EA%B3%BC%EC%A0%9C.ipynb\" target=\"_parent\"><img src=\"https://colab.research.google.com/assets/colab-badge.svg\" alt=\"Open In Colab\"/></a>"
      ]
    },
    {
      "cell_type": "code",
      "execution_count": null,
      "metadata": {
        "id": "cM84lcEdjHAy"
      },
      "outputs": [],
      "source": [
        "#아래 코드에서 찾았습니다! 가 출력되었을때, 모든 반복문을 강제로 나가는 코드로 수정해보세요.\n",
        "\n",
        "try:\n",
        "    for n1 in range(1000):\n",
        "        for n2 in range(1000):\n",
        "           for n3 in range(1000):\n",
        "               for n4 in range(1000):\n",
        "                   for n5 in range(1000):\n",
        "                       if (n1+n2+n3+n4+n5) == 1000:\n",
        "                           print(\"찾았습니다!\")\n",
        "                           raise NameError\n",
        "\n",
        "except:\n",
        "    pass\n",
        "\n",
        "\n",
        "print(\"나갔다 야호!\")\n",
        ""
      ]
    }
  ]
}