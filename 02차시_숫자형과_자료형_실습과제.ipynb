{
  "nbformat": 4,
  "nbformat_minor": 0,
  "metadata": {
    "colab": {
      "provenance": [],
      "authorship_tag": "ABX9TyOsrWY0Lv++dXr+bH01TUGZ",
      "include_colab_link": true
    },
    "kernelspec": {
      "name": "python3",
      "display_name": "Python 3"
    },
    "language_info": {
      "name": "python"
    }
  },
  "cells": [
    {
      "cell_type": "markdown",
      "metadata": {
        "id": "view-in-github",
        "colab_type": "text"
      },
      "source": [
        "<a href=\"https://colab.research.google.com/github/hearthatu/Basic-Python/blob/main/2%EC%B0%A8%EC%8B%9C_%EC%88%AB%EC%9E%90%ED%98%95%EA%B3%BC_%EC%9E%90%EB%A3%8C%ED%98%95_%EC%8B%A4%EC%8A%B5%EA%B3%BC%EC%A0%9C.ipynb\" target=\"_parent\"><img src=\"https://colab.research.google.com/assets/colab-badge.svg\" alt=\"Open In Colab\"/></a>"
      ]
    },
    {
      "cell_type": "code",
      "execution_count": null,
      "metadata": {
        "colab": {
          "base_uri": "https://localhost:8080/"
        },
        "id": "dUL65wmiRS54",
        "outputId": "336b75c4-3a39-49aa-970e-9082bf3c2139"
      },
      "outputs": [
        {
          "output_type": "stream",
          "name": "stdout",
          "text": [
            "82.5\n"
          ]
        }
      ],
      "source": [
        "#변수 a를 만들고, 변수 a에 정수 5를 할당해보세요.\n",
        "#변수 b를 만들고, 변수 b에 정수 10을 할당해보세요.\n",
        "#두 변수 a,b를 더한 값을 변수 c에 할당해보세요.\n",
        "#두 변수 a,b를 뺀 값을 변수 d에 할당해보세요.\n",
        "#두 변수 a,b를 곱한 값을 변수 e에 할당해보세요.\n",
        "#두 변수 a,b를 나눈 값을 변수 f에 할당해보세요.\n",
        "#변수 a를 변수 b로 나눈 후, 나머지 값을 g에 할당해보세요.\n",
        "#변수 b를 변수 a로 나눈 후, 몫을 h에 할당해보세요.\n",
        "#마지막으로 변수 a~h까지 모두 더한 값을 출력해보세요\n",
        "\n",
        "a = 5\n",
        "b = 10\n",
        "c = a + b\n",
        "d = a - b\n",
        "e = a * b\n",
        "f = a / b\n",
        "g = a % b\n",
        "h = b // a\n",
        "\n",
        "print(a + b + c + d + e + f + g + h)"
      ]
    }
  ]
}
