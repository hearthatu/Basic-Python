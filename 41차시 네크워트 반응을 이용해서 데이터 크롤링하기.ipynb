{
  "nbformat": 4,
  "nbformat_minor": 0,
  "metadata": {
    "colab": {
      "provenance": [],
      "authorship_tag": "ABX9TyNzpRzFrnq4ik3rlhNi4/Y8",
      "include_colab_link": true
    },
    "kernelspec": {
      "name": "python3",
      "display_name": "Python 3"
    },
    "language_info": {
      "name": "python"
    }
  },
  "cells": [
    {
      "cell_type": "markdown",
      "metadata": {
        "id": "view-in-github",
        "colab_type": "text"
      },
      "source": [
        "<a href=\"https://colab.research.google.com/github/hearthatu/Basic-Python/blob/main/41%EC%B0%A8%EC%8B%9C%20%EB%84%A4%ED%81%AC%EC%9B%8C%ED%8A%B8%20%EB%B0%98%EC%9D%91%EC%9D%84%20%EC%9D%B4%EC%9A%A9%ED%95%B4%EC%84%9C%20%EB%8D%B0%EC%9D%B4%ED%84%B0%20%ED%81%AC%EB%A1%A4%EB%A7%81%ED%95%98%EA%B8%B0.ipynb\" target=\"_parent\"><img src=\"https://colab.research.google.com/assets/colab-badge.svg\" alt=\"Open In Colab\"/></a>"
      ]
    },
    {
      "cell_type": "markdown",
      "source": [
        "네트워크 반응\n",
        "\n",
        "- 네트워크 반응을 이용해서 데이터 크롤링하기\n",
        "\n",
        "json\n",
        "\n",
        "- javascript Object Notation이라는 의미의 축약어\n",
        "\n",
        "- 데이터를 저장하거나 전송할 때 많이 사용되는 경량의 Data 교환 형식\n",
        "\n",
        "- 형태는 Python의 dictionary와 유사"
      ],
      "metadata": {
        "id": "NGbZArCb5gP4"
      }
    },
    {
      "cell_type": "code",
      "source": [
        "import json\n",
        "import requests\n",
        "import pandas as pd\n",
        "from bs4 import BeautifulSoup\n",
        "\n",
        "url = requests.get(\"https://upbit.com/service_center/press\")\n",
        "html = BeautifulSoup(url.text)\n",
        "html.find(\"td\", class_ = \"IAlign\")"
      ],
      "metadata": {
        "id": "cOb4sk9n6GHI"
      },
      "execution_count": 3,
      "outputs": []
    },
    {
      "cell_type": "code",
      "source": [
        "import json\n",
        "\n",
        "url = requests.get(\"#변화된 주소 입력\") #네트워크\n",
        "url.text\n",
        "\n",
        "data = json.loads(url.text)\n",
        "for i in data[\"data\"][\"post\"]:\n",
        "    print(i[\"text\"])"
      ],
      "metadata": {
        "id": "kHE1RRLn6oU_"
      },
      "execution_count": null,
      "outputs": []
    }
  ]
}