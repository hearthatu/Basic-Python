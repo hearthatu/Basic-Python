{
  "nbformat": 4,
  "nbformat_minor": 0,
  "metadata": {
    "colab": {
      "provenance": [],
      "authorship_tag": "ABX9TyN7esHUjWgKYNDgPvG0Ggkj",
      "include_colab_link": true
    },
    "kernelspec": {
      "name": "python3",
      "display_name": "Python 3"
    },
    "language_info": {
      "name": "python"
    }
  },
  "cells": [
    {
      "cell_type": "markdown",
      "metadata": {
        "id": "view-in-github",
        "colab_type": "text"
      },
      "source": [
        "<a href=\"https://colab.research.google.com/github/hearthatu/Basic-Python/blob/main/61%EC%B0%A8%EC%8B%9C%20%EC%8B%9C%EA%B3%84%EC%97%B4%20%EB%8D%B0%EC%9D%B4%ED%84%B0%EB%A5%BC%20%EC%9C%84%ED%95%9C%20%EB%94%A5%EB%9F%AC%EB%8B%9D(RNN%2C_LSTM).ipynb\" target=\"_parent\"><img src=\"https://colab.research.google.com/assets/colab-badge.svg\" alt=\"Open In Colab\"/></a>"
      ]
    },
    {
      "cell_type": "markdown",
      "source": [
        "# RNN\n",
        "\n",
        "- 순환 신경망 학습\n",
        "\n",
        "> 이전에 들어왔던 데이터를 기억하게 함으로써 다음 값이 전 데이터 값이 어떤 값인지 인지하게 된다.\n",
        "\n",
        "```\n",
        "model = Sequential()\n",
        "model.add(keras.layers.SImpleRNN(3, input_shape=(10,5))\n",
        "model.add(keras.layers.Dense(3, activation = \"softmax\"))\n",
        "\n",
        "```\n",
        "\n",
        "- LSTM(Long Short-Term Memory)\n",
        "\n",
        "> 장, 단기 기억을 가능하게 설계된 신경망\n",
        "\n",
        "```\n",
        "model = Sequential()\n",
        "model.add(keras.layers.LSTM(3, input_shape=(10,5))\n",
        "model.add(keras.layers.Dense(3, activation = \"softmax\"))\n",
        "\n",
        "```\n"
      ],
      "metadata": {
        "id": "W7JuLgD7j0ae"
      }
    }
  ]
}